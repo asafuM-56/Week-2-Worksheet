{
  "nbformat": 4,
  "nbformat_minor": 0,
  "metadata": {
    "colab": {
      "provenance": [],
      "authorship_tag": "ABX9TyNqJLWGhekWdoH9lmO6zitT",
      "include_colab_link": true
    },
    "kernelspec": {
      "name": "python3",
      "display_name": "Python 3"
    },
    "language_info": {
      "name": "python"
    }
  },
  "cells": [
    {
      "cell_type": "markdown",
      "metadata": {
        "id": "view-in-github",
        "colab_type": "text"
      },
      "source": [
        "<a href=\"https://colab.research.google.com/github/asafuM-56/Week-2-Worksheet/blob/main/WEEK_2_WORKSHEET.ipynb\" target=\"_parent\"><img src=\"https://colab.research.google.com/assets/colab-badge.svg\" alt=\"Open In Colab\"/></a>"
      ]
    },
    {
      "cell_type": "markdown",
      "source": [
        "Biomass Gassification Data"
      ],
      "metadata": {
        "id": "N_LspdDdGlwU"
      }
    },
    {
      "cell_type": "code",
      "source": [
        "import pandas as pd\n",
        "\n",
        "# Replace 'your_file_path.xlsx' with the actual path to your Excel file\n",
        "file_path = '/content/Biomass Gasification Dataset.xlsx'\n",
        "\n",
        "# Read the Excel file into a Pandas DataFrame\n",
        "df = pd.read_excel(file_path)\n",
        "\n",
        "print(df.head())  # Print the first few rows of the DataFrame"
      ],
      "metadata": {
        "colab": {
          "base_uri": "https://localhost:8080/"
        },
        "id": "h5v-0z92Ig0i",
        "outputId": "99c50fe0-ed3a-47d9-9bac-7fb8371f6711"
      },
      "execution_count": null,
      "outputs": [
        {
          "output_type": "stream",
          "name": "stdout",
          "text": [
            "          feed Type of Feed      C     H     N    S      O  ASH  \\\n",
            "0  Fruit Waste  Orange Peel  41.71  6.04  1.91  0.0  50.34  0.0   \n",
            "1  Fruit Waste  Orange Peel  41.71  6.04  1.91  0.0  50.34  0.0   \n",
            "2  Fruit Waste  Orange Peel  41.71  6.04  1.91  0.0  50.34  0.0   \n",
            "3  Fruit Waste  Orange Peel  41.71  6.04  1.91  0.0  50.34  0.0   \n",
            "4  Fruit Waste  Orange Peel  41.71  6.04  1.91  0.0  50.34  0.0   \n",
            "\n",
            "   C-H Aromatics   C-H  Alkanes  ...  Time    BC  Reactor  Catalyst Type  \\\n",
            "0               1             1  ...    30   5.0    Batch              0   \n",
            "1               1             1  ...    60   5.0    Batch              0   \n",
            "2               1             1  ...    30  15.0    Batch              0   \n",
            "3               1             1  ...    60  15.0    Batch              0   \n",
            "4               1             1  ...    45  10.0    Batch              0   \n",
            "\n",
            "   Catalyst Concentration  CO2 mole fraction  H2 mole fraction  \\\n",
            "0                     0.0              92.37              1.54   \n",
            "1                     0.0              93.00              2.49   \n",
            "2                     0.0              92.50              2.00   \n",
            "3                     0.0              95.27              1.09   \n",
            "4                     0.0              95.35              0.97   \n",
            "\n",
            "  Hydrogen selectivity CO mole fraction  CH4 mole fraction  \n",
            "0             1.564087             5.65               0.42  \n",
            "1             2.553584             4.18               0.33  \n",
            "2             2.040816             4.50               1.00  \n",
            "3             1.102012             2.62               1.00  \n",
            "4             0.979501             3.23               0.45  \n",
            "\n",
            "[5 rows x 25 columns]\n"
          ]
        }
      ]
    },
    {
      "cell_type": "code",
      "source": [
        "# Get the number of rows and columns\n",
        "num_rows, num_cols = df.shape\n",
        "\n",
        "print(\"Number of rows:\", num_rows)\n",
        "print(\"Number of columns:\", num_cols)"
      ],
      "metadata": {
        "colab": {
          "base_uri": "https://localhost:8080/"
        },
        "id": "HubcN9SeTLne",
        "outputId": "f0630589-5d7b-47eb-b473-b62ffd6961e3"
      },
      "execution_count": null,
      "outputs": [
        {
          "output_type": "stream",
          "name": "stdout",
          "text": [
            "Number of rows: 244\n",
            "Number of columns: 25\n"
          ]
        }
      ]
    },
    {
      "cell_type": "code",
      "source": [
        "# Get the data types of each column\n",
        "data_types = df.dtypes\n",
        "\n",
        "# Print the data types\n",
        "print(data_types)\n",
        "\n",
        "# Identify numeric and categorical columns\n",
        "numeric_cols = df.select_dtypes(include=['int64', 'float64']).columns\n",
        "categorical_cols = df.select_dtypes(include=['object']).columns\n",
        "\n",
        "print(\"\\nNumeric columns:\", numeric_cols)\n",
        "print(\"\\nCategorical columns:\", categorical_cols)"
      ],
      "metadata": {
        "colab": {
          "base_uri": "https://localhost:8080/"
        },
        "id": "IRzLC2AITf01",
        "outputId": "fd48a7d1-1d34-4e47-8067-968614799693"
      },
      "execution_count": null,
      "outputs": [
        {
          "output_type": "stream",
          "name": "stdout",
          "text": [
            "feed                       object\n",
            "Type of Feed               object\n",
            "C                         float64\n",
            "H                         float64\n",
            "N                         float64\n",
            "S                         float64\n",
            "O                         float64\n",
            "ASH                       float64\n",
            "C-H Aromatics               int64\n",
            "C-H  Alkanes                int64\n",
            "C-O                         int64\n",
            "C=C                         int64\n",
            "C=O                         int64\n",
            "O-H                         int64\n",
            "Temp                        int64\n",
            "Time                        int64\n",
            "BC                        float64\n",
            "Reactor                    object\n",
            "Catalyst Type              object\n",
            "Catalyst Concentration    float64\n",
            "CO2 mole fraction         float64\n",
            "H2 mole fraction          float64\n",
            "Hydrogen selectivity      float64\n",
            "CO mole fraction          float64\n",
            "CH4 mole fraction         float64\n",
            "dtype: object\n",
            "\n",
            "Numeric columns: Index(['C', 'H', 'N', 'S', 'O', 'ASH', 'C-H Aromatics ', 'C-H  Alkanes',\n",
            "       'C-O ', 'C=C ', 'C=O ', 'O-H ', 'Temp', 'Time', 'BC',\n",
            "       'Catalyst Concentration', 'CO2 mole fraction', 'H2 mole fraction',\n",
            "       'Hydrogen selectivity', 'CO mole fraction', 'CH4 mole fraction'],\n",
            "      dtype='object')\n",
            "\n",
            "Categorical columns: Index(['feed', 'Type of Feed', 'Reactor', 'Catalyst Type'], dtype='object')\n"
          ]
        }
      ]
    },
    {
      "cell_type": "code",
      "source": [
        "# Check for missing values\n",
        "missing_values = df.isnull().sum()\n",
        "print(\"Missing values:\\n\", missing_values)\n",
        "\n",
        "# Remove rows with missing values in categorical columns\n",
        "df = df.dropna(subset=categorical_cols)\n",
        "\n",
        "# Replace missing values in numeric columns with the mean\n",
        "df[numeric_cols] = df[numeric_cols].fillna(df[numeric_cols].mean())\n",
        "\n",
        "# Verify that missing values have been removed\n",
        "missing_values_after_cleaning = df.isnull().sum()\n",
        "print(\"\\nMissing values after cleaning:\\n\", missing_values_after_cleaning)"
      ],
      "metadata": {
        "colab": {
          "base_uri": "https://localhost:8080/"
        },
        "id": "2Y9zdx65T4jl",
        "outputId": "579d080e-81fc-402b-8e6f-aad5b17c29e9"
      },
      "execution_count": null,
      "outputs": [
        {
          "output_type": "stream",
          "name": "stdout",
          "text": [
            "Missing values:\n",
            " feed                      0\n",
            "Type of Feed              0\n",
            "C                         0\n",
            "H                         0\n",
            "N                         0\n",
            "S                         0\n",
            "O                         0\n",
            "ASH                       0\n",
            "C-H Aromatics             0\n",
            "C-H  Alkanes              0\n",
            "C-O                       0\n",
            "C=C                       0\n",
            "C=O                       0\n",
            "O-H                       0\n",
            "Temp                      0\n",
            "Time                      0\n",
            "BC                        0\n",
            "Reactor                   0\n",
            "Catalyst Type             0\n",
            "Catalyst Concentration    0\n",
            "CO2 mole fraction         0\n",
            "H2 mole fraction          0\n",
            "Hydrogen selectivity      0\n",
            "CO mole fraction          0\n",
            "CH4 mole fraction         0\n",
            "dtype: int64\n",
            "\n",
            "Missing values after cleaning:\n",
            " feed                      0\n",
            "Type of Feed              0\n",
            "C                         0\n",
            "H                         0\n",
            "N                         0\n",
            "S                         0\n",
            "O                         0\n",
            "ASH                       0\n",
            "C-H Aromatics             0\n",
            "C-H  Alkanes              0\n",
            "C-O                       0\n",
            "C=C                       0\n",
            "C=O                       0\n",
            "O-H                       0\n",
            "Temp                      0\n",
            "Time                      0\n",
            "BC                        0\n",
            "Reactor                   0\n",
            "Catalyst Type             0\n",
            "Catalyst Concentration    0\n",
            "CO2 mole fraction         0\n",
            "H2 mole fraction          0\n",
            "Hydrogen selectivity      0\n",
            "CO mole fraction          0\n",
            "CH4 mole fraction         0\n",
            "dtype: int64\n"
          ]
        }
      ]
    },
    {
      "cell_type": "markdown",
      "source": [
        "The column that represents the feed is in column A. The column that represents the type is column B"
      ],
      "metadata": {
        "id": "n1hh3qCTWeY_"
      }
    },
    {
      "cell_type": "code",
      "source": [
        "import pandas as pd\n",
        "import matplotlib.pyplot as plt\n",
        "import seaborn as sns\n",
        "\n",
        "# Group the data by \"Type of Feed\"\n",
        "grouped_data = df.groupby(\"Type of Feed\")\n",
        "\n",
        "# Calculate summary statistics\n",
        "summary_stats = grouped_data[['C', 'H', 'N', 'S', 'O', 'ASH']].describe()\n",
        "\n",
        "# Print the summary statistics\n",
        "print(summary_stats)"
      ],
      "metadata": {
        "colab": {
          "base_uri": "https://localhost:8080/"
        },
        "id": "tU7LSYXeVxGp",
        "outputId": "829c24be-7f09-4d56-b617-29bd74e3668b"
      },
      "execution_count": null,
      "outputs": [
        {
          "output_type": "stream",
          "name": "stdout",
          "text": [
            "                                       C                                     \\\n",
            "                                   count   mean           std    min    25%   \n",
            "Type of Feed                                                                  \n",
            "Banana Peel                          1.0  41.34           NaN  41.34  41.34   \n",
            "Black Liqour- Wood 5%                1.0  35.58           NaN  35.58  35.58   \n",
            "Black Liquor                        17.0  35.58  0.000000e+00  35.58  35.58   \n",
            "Black Liquor- Wood 3%                1.0  35.58           NaN  35.58  35.58   \n",
            "Black Liquor- Wood 3%- Formic Acid   1.0  35.58           NaN  35.58  35.58   \n",
            "Black Liquor- Wood 5%- Formic Acid   1.0  35.58           NaN  35.58  35.58   \n",
            "Black Liquor- Wood 7%                1.0  35.58           NaN  35.58  35.58   \n",
            "Black Liquor- Wood 7%- Formic Acid   1.0  35.58           NaN  35.58  35.58   \n",
            "Chulorala Valgaris- CGLY 4%          6.0  52.20  7.783606e-15  52.20  52.20   \n",
            "Chulorala Valgaris-Dionized Water    1.0  52.20           NaN  52.20  52.20   \n",
            "Crude Glycerol                      22.0  39.10  7.272637e-15  39.10  39.10   \n",
            "Dairy Waste water based on Cheese   13.0  30.82  3.697782e-15  30.82  30.82   \n",
            "Dairy Waste water based on Milk      9.0  25.72  0.000000e+00  25.72  25.72   \n",
            "Distillition Waste water            36.0  34.41  7.206219e-15  34.41  34.41   \n",
            "Dunalila salina- CGLY 4%             6.0  56.00  0.000000e+00  56.00  56.00   \n",
            "Dunalila salina- Dionized Water      1.0  56.00           NaN  56.00  56.00   \n",
            "Esperolina Plantis- CGLY 4%          6.0  55.40  0.000000e+00  55.40  55.40   \n",
            "Esperolina Plantis- Dionized Water   1.0  55.40           NaN  55.40  55.40   \n",
            "Food Waste(Kitchen)                 13.0  41.20  0.000000e+00  41.20  41.20   \n",
            "Orange Peel                         24.0  41.71  0.000000e+00  41.71  41.71   \n",
            "PET                                 36.0  60.82  1.441244e-14  60.82  60.82   \n",
            "Watermelon Peel                      1.0  36.85           NaN  36.85  36.85   \n",
            "Wood                                17.0  46.27  0.000000e+00  46.27  46.27   \n",
            "wheat straw                         28.0  44.10  1.447163e-14  44.10  44.10   \n",
            "\n",
            "                                                            H        ...  \\\n",
            "                                      50%    75%    max count  mean  ...   \n",
            "Type of Feed                                                         ...   \n",
            "Banana Peel                         41.34  41.34  41.34   1.0  5.99  ...   \n",
            "Black Liqour- Wood 5%               35.58  35.58  35.58   1.0  4.21  ...   \n",
            "Black Liquor                        35.58  35.58  35.58  17.0  4.21  ...   \n",
            "Black Liquor- Wood 3%               35.58  35.58  35.58   1.0  4.21  ...   \n",
            "Black Liquor- Wood 3%- Formic Acid  35.58  35.58  35.58   1.0  4.21  ...   \n",
            "Black Liquor- Wood 5%- Formic Acid  35.58  35.58  35.58   1.0  4.21  ...   \n",
            "Black Liquor- Wood 7%               35.58  35.58  35.58   1.0  4.21  ...   \n",
            "Black Liquor- Wood 7%- Formic Acid  35.58  35.58  35.58   1.0  4.21  ...   \n",
            "Chulorala Valgaris- CGLY 4%         52.20  52.20  52.20   6.0  7.10  ...   \n",
            "Chulorala Valgaris-Dionized Water   52.20  52.20  52.20   1.0  7.10  ...   \n",
            "Crude Glycerol                      39.10  39.10  39.10  22.0  8.70  ...   \n",
            "Dairy Waste water based on Cheese   30.82  30.82  30.82  13.0  5.89  ...   \n",
            "Dairy Waste water based on Milk     25.72  25.72  25.72   9.0  4.23  ...   \n",
            "Distillition Waste water            34.41  34.41  34.41  36.0  4.87  ...   \n",
            "Dunalila salina- CGLY 4%            56.00  56.00  56.00   6.0  7.40  ...   \n",
            "Dunalila salina- Dionized Water     56.00  56.00  56.00   1.0  7.40  ...   \n",
            "Esperolina Plantis- CGLY 4%         55.40  55.40  55.40   6.0  6.50  ...   \n",
            "Esperolina Plantis- Dionized Water  55.40  55.40  55.40   1.0  6.50  ...   \n",
            "Food Waste(Kitchen)                 41.20  41.20  41.20  13.0  6.71  ...   \n",
            "Orange Peel                         41.71  41.71  41.71  24.0  6.04  ...   \n",
            "PET                                 60.82  60.82  60.82  36.0  4.22  ...   \n",
            "Watermelon Peel                     36.85  36.85  36.85   1.0  5.88  ...   \n",
            "Wood                                46.27  46.27  46.27  17.0  5.86  ...   \n",
            "wheat straw                         44.10  44.10  44.10  28.0  6.00  ...   \n",
            "\n",
            "                                        O          ASH                       \\\n",
            "                                      75%    max count   mean           std   \n",
            "Type of Feed                                                                  \n",
            "Banana Peel                         50.82  50.82   1.0   0.00           NaN   \n",
            "Black Liqour- Wood 5%               56.62  56.62   1.0   0.00           NaN   \n",
            "Black Liquor                        56.62  56.62  17.0   0.00  0.000000e+00   \n",
            "Black Liquor- Wood 3%               56.62  56.62   1.0   0.00           NaN   \n",
            "Black Liquor- Wood 3%- Formic Acid  56.62  56.62   1.0   0.00           NaN   \n",
            "Black Liquor- Wood 5%- Formic Acid  56.62  56.62   1.0   0.00           NaN   \n",
            "Black Liquor- Wood 7%               56.62  56.62   1.0   0.00           NaN   \n",
            "Black Liquor- Wood 7%- Formic Acid  56.62  56.62   1.0   0.00           NaN   \n",
            "Chulorala Valgaris- CGLY 4%         32.10  32.10   6.0   0.00  0.000000e+00   \n",
            "Chulorala Valgaris-Dionized Water   32.10  32.10   1.0   0.00           NaN   \n",
            "Crude Glycerol                      52.20  52.20  22.0   0.00  0.000000e+00   \n",
            "Dairy Waste water based on Cheese   30.49  30.49  13.0  25.00  0.000000e+00   \n",
            "Dairy Waste water based on Milk     41.05  41.05   9.0  25.00  0.000000e+00   \n",
            "Distillition Waste water            53.45  53.45  36.0   0.00  0.000000e+00   \n",
            "Dunalila salina- CGLY 4%            27.20  27.20   6.0   0.00  0.000000e+00   \n",
            "Dunalila salina- Dionized Water     27.20  27.20   1.0   0.00           NaN   \n",
            "Esperolina Plantis- CGLY 4%         26.10  26.10   6.0   0.00  0.000000e+00   \n",
            "Esperolina Plantis- Dionized Water  26.10  26.10   1.0   0.00           NaN   \n",
            "Food Waste(Kitchen)                 43.12  43.12  13.0   4.10  9.244454e-16   \n",
            "Orange Peel                         50.34  50.34  24.0   0.00  0.000000e+00   \n",
            "PET                                 31.24  31.24  36.0   3.72  4.503887e-16   \n",
            "Watermelon Peel                     54.84  54.84   1.0   0.00           NaN   \n",
            "Wood                                45.50  45.50  17.0   0.00  0.000000e+00   \n",
            "wheat straw                         45.10  45.10  28.0   0.00  0.000000e+00   \n",
            "\n",
            "                                                                       \n",
            "                                      min    25%    50%    75%    max  \n",
            "Type of Feed                                                           \n",
            "Banana Peel                          0.00   0.00   0.00   0.00   0.00  \n",
            "Black Liqour- Wood 5%                0.00   0.00   0.00   0.00   0.00  \n",
            "Black Liquor                         0.00   0.00   0.00   0.00   0.00  \n",
            "Black Liquor- Wood 3%                0.00   0.00   0.00   0.00   0.00  \n",
            "Black Liquor- Wood 3%- Formic Acid   0.00   0.00   0.00   0.00   0.00  \n",
            "Black Liquor- Wood 5%- Formic Acid   0.00   0.00   0.00   0.00   0.00  \n",
            "Black Liquor- Wood 7%                0.00   0.00   0.00   0.00   0.00  \n",
            "Black Liquor- Wood 7%- Formic Acid   0.00   0.00   0.00   0.00   0.00  \n",
            "Chulorala Valgaris- CGLY 4%          0.00   0.00   0.00   0.00   0.00  \n",
            "Chulorala Valgaris-Dionized Water    0.00   0.00   0.00   0.00   0.00  \n",
            "Crude Glycerol                       0.00   0.00   0.00   0.00   0.00  \n",
            "Dairy Waste water based on Cheese   25.00  25.00  25.00  25.00  25.00  \n",
            "Dairy Waste water based on Milk     25.00  25.00  25.00  25.00  25.00  \n",
            "Distillition Waste water             0.00   0.00   0.00   0.00   0.00  \n",
            "Dunalila salina- CGLY 4%             0.00   0.00   0.00   0.00   0.00  \n",
            "Dunalila salina- Dionized Water      0.00   0.00   0.00   0.00   0.00  \n",
            "Esperolina Plantis- CGLY 4%          0.00   0.00   0.00   0.00   0.00  \n",
            "Esperolina Plantis- Dionized Water   0.00   0.00   0.00   0.00   0.00  \n",
            "Food Waste(Kitchen)                  4.10   4.10   4.10   4.10   4.10  \n",
            "Orange Peel                          0.00   0.00   0.00   0.00   0.00  \n",
            "PET                                  3.72   3.72   3.72   3.72   3.72  \n",
            "Watermelon Peel                      0.00   0.00   0.00   0.00   0.00  \n",
            "Wood                                 0.00   0.00   0.00   0.00   0.00  \n",
            "wheat straw                          0.00   0.00   0.00   0.00   0.00  \n",
            "\n",
            "[24 rows x 48 columns]\n"
          ]
        }
      ]
    },
    {
      "cell_type": "code",
      "source": [
        "column_name = 'Temp'\n",
        "\n",
        "# Calculate maximum, minimum, and average\n",
        "maximum_value = df[column_name].max()\n",
        "minimum_value = df[column_name].min()\n",
        "average_value = df[column_name].mean()\n",
        "\n",
        "# Print the results\n",
        "print(\"Maximum value:\", maximum_value)\n",
        "print(\"Minimum value:\", minimum_value)\n",
        "print(\"Average value:\", average_value)"
      ],
      "metadata": {
        "colab": {
          "base_uri": "https://localhost:8080/"
        },
        "id": "shzu_QLpW8Ce",
        "outputId": "b3d2b9f3-a8d0-4214-f223-6a2705f03403"
      },
      "execution_count": null,
      "outputs": [
        {
          "output_type": "stream",
          "name": "stdout",
          "text": [
            "Maximum value: 400\n",
            "Minimum value: 80\n",
            "Average value: 369.36475409836066\n"
          ]
        }
      ]
    },
    {
      "cell_type": "markdown",
      "source": [
        "The only redundant column is reactor type, since nothing between it changes"
      ],
      "metadata": {
        "id": "if7TRTLMas27"
      }
    },
    {
      "cell_type": "code",
      "source": [
        "# Drop the \"Reactor\" column\n",
        "df = df.drop(columns=['Reactor'])\n",
        "\n",
        "# Print the resulting DataFrame\n",
        "print(df.head())"
      ],
      "metadata": {
        "colab": {
          "base_uri": "https://localhost:8080/"
        },
        "id": "aSqe4_-pa3Na",
        "outputId": "671b2902-d169-443c-e4f7-e6d1d605401f"
      },
      "execution_count": null,
      "outputs": [
        {
          "output_type": "stream",
          "name": "stdout",
          "text": [
            "          feed Type of Feed      C     H     N    S      O  ASH  \\\n",
            "0  Fruit Waste  Orange Peel  41.71  6.04  1.91  0.0  50.34  0.0   \n",
            "1  Fruit Waste  Orange Peel  41.71  6.04  1.91  0.0  50.34  0.0   \n",
            "2  Fruit Waste  Orange Peel  41.71  6.04  1.91  0.0  50.34  0.0   \n",
            "3  Fruit Waste  Orange Peel  41.71  6.04  1.91  0.0  50.34  0.0   \n",
            "4  Fruit Waste  Orange Peel  41.71  6.04  1.91  0.0  50.34  0.0   \n",
            "\n",
            "   C-H Aromatics   C-H  Alkanes  ...  Temp  Time    BC  Catalyst Type  \\\n",
            "0               1             1  ...   350    30   5.0              0   \n",
            "1               1             1  ...   350    60   5.0              0   \n",
            "2               1             1  ...   350    30  15.0              0   \n",
            "3               1             1  ...   350    60  15.0              0   \n",
            "4               1             1  ...   350    45  10.0              0   \n",
            "\n",
            "   Catalyst Concentration  CO2 mole fraction  H2 mole fraction  \\\n",
            "0                     0.0              92.37              1.54   \n",
            "1                     0.0              93.00              2.49   \n",
            "2                     0.0              92.50              2.00   \n",
            "3                     0.0              95.27              1.09   \n",
            "4                     0.0              95.35              0.97   \n",
            "\n",
            "  Hydrogen selectivity  CO mole fraction  CH4 mole fraction  \n",
            "0             1.564087              5.65               0.42  \n",
            "1             2.553584              4.18               0.33  \n",
            "2             2.040816              4.50               1.00  \n",
            "3             1.102012              2.62               1.00  \n",
            "4             0.979501              3.23               0.45  \n",
            "\n",
            "[5 rows x 24 columns]\n"
          ]
        }
      ]
    },
    {
      "cell_type": "code",
      "source": [
        "# Create new columns for the ratios\n",
        "df['C-to-H'] = df['C'] / df['H']\n",
        "df['O-to-H'] = df['O'] / df['H']\n",
        "print(df.head())\n",
        "\n",
        "# Calculate the ranges for the ratios\n",
        "c_to_h_range = (df['C-to-H'].min(), df['C-to-H'].max())\n",
        "o_to_h_range = (df['O-to-H'].min(), df['O-to-H'].max())\n",
        "\n",
        "# Print the ranges\n",
        "print(\"C-to-H range:\", c_to_h_range)\n",
        "print(\"O-to-H range:\", o_to_h_range)"
      ],
      "metadata": {
        "colab": {
          "base_uri": "https://localhost:8080/"
        },
        "id": "chKplNFfa0-z",
        "outputId": "9b1933cb-1e98-4fa0-92a1-4ea3813ed4be"
      },
      "execution_count": null,
      "outputs": [
        {
          "output_type": "stream",
          "name": "stdout",
          "text": [
            "          feed Type of Feed      C     H     N    S      O  ASH  \\\n",
            "0  Fruit Waste  Orange Peel  41.71  6.04  1.91  0.0  50.34  0.0   \n",
            "1  Fruit Waste  Orange Peel  41.71  6.04  1.91  0.0  50.34  0.0   \n",
            "2  Fruit Waste  Orange Peel  41.71  6.04  1.91  0.0  50.34  0.0   \n",
            "3  Fruit Waste  Orange Peel  41.71  6.04  1.91  0.0  50.34  0.0   \n",
            "4  Fruit Waste  Orange Peel  41.71  6.04  1.91  0.0  50.34  0.0   \n",
            "\n",
            "   C-H Aromatics   C-H  Alkanes  ...    BC  Catalyst Type  \\\n",
            "0               1             1  ...   5.0              0   \n",
            "1               1             1  ...   5.0              0   \n",
            "2               1             1  ...  15.0              0   \n",
            "3               1             1  ...  15.0              0   \n",
            "4               1             1  ...  10.0              0   \n",
            "\n",
            "   Catalyst Concentration  CO2 mole fraction  H2 mole fraction  \\\n",
            "0                     0.0              92.37              1.54   \n",
            "1                     0.0              93.00              2.49   \n",
            "2                     0.0              92.50              2.00   \n",
            "3                     0.0              95.27              1.09   \n",
            "4                     0.0              95.35              0.97   \n",
            "\n",
            "   Hydrogen selectivity  CO mole fraction CH4 mole fraction    C-to-H  \\\n",
            "0              1.564087              5.65              0.42  6.905629   \n",
            "1              2.553584              4.18              0.33  6.905629   \n",
            "2              2.040816              4.50              1.00  6.905629   \n",
            "3              1.102012              2.62              1.00  6.905629   \n",
            "4              0.979501              3.23              0.45  6.905629   \n",
            "\n",
            "     O-to-H  \n",
            "0  8.334437  \n",
            "1  8.334437  \n",
            "2  8.334437  \n",
            "3  8.334437  \n",
            "4  8.334437  \n",
            "\n",
            "[5 rows x 26 columns]\n",
            "C-to-H range: (4.494252873563219, 14.412322274881518)\n",
            "O-to-H range: (3.6756756756756754, 13.448931116389549)\n"
          ]
        }
      ]
    },
    {
      "cell_type": "markdown",
      "source": [
        "One-hot encoding for type of feed"
      ],
      "metadata": {
        "id": "OXxclDsqbgby"
      }
    },
    {
      "cell_type": "code",
      "source": [
        "# Perform one-hot encoding\n",
        "df_encoded = pd.get_dummies(df, columns=['Type of Feed'])\n",
        "\n",
        "# Print the encoded DataFrame\n",
        "print(df_encoded.head())"
      ],
      "metadata": {
        "colab": {
          "base_uri": "https://localhost:8080/"
        },
        "id": "w8T_V1rabimK",
        "outputId": "de24fb15-aa9e-45f8-b68e-69f4c95348c6"
      },
      "execution_count": null,
      "outputs": [
        {
          "output_type": "stream",
          "name": "stdout",
          "text": [
            "          feed      C     H     N    S      O  ASH  C-H Aromatics   \\\n",
            "0  Fruit Waste  41.71  6.04  1.91  0.0  50.34  0.0               1   \n",
            "1  Fruit Waste  41.71  6.04  1.91  0.0  50.34  0.0               1   \n",
            "2  Fruit Waste  41.71  6.04  1.91  0.0  50.34  0.0               1   \n",
            "3  Fruit Waste  41.71  6.04  1.91  0.0  50.34  0.0               1   \n",
            "4  Fruit Waste  41.71  6.04  1.91  0.0  50.34  0.0               1   \n",
            "\n",
            "   C-H  Alkanes  C-O   ...  Type of Feed_Dunalila salina- CGLY 4%  \\\n",
            "0             1     1  ...                                  False   \n",
            "1             1     1  ...                                  False   \n",
            "2             1     1  ...                                  False   \n",
            "3             1     1  ...                                  False   \n",
            "4             1     1  ...                                  False   \n",
            "\n",
            "   Type of Feed_Dunalila salina- Dionized Water  \\\n",
            "0                                         False   \n",
            "1                                         False   \n",
            "2                                         False   \n",
            "3                                         False   \n",
            "4                                         False   \n",
            "\n",
            "   Type of Feed_Esperolina Plantis- CGLY 4%  \\\n",
            "0                                     False   \n",
            "1                                     False   \n",
            "2                                     False   \n",
            "3                                     False   \n",
            "4                                     False   \n",
            "\n",
            "   Type of Feed_Esperolina Plantis- Dionized Water  \\\n",
            "0                                            False   \n",
            "1                                            False   \n",
            "2                                            False   \n",
            "3                                            False   \n",
            "4                                            False   \n",
            "\n",
            "   Type of Feed_Food Waste(Kitchen)  Type of Feed_Orange Peel  \\\n",
            "0                             False                      True   \n",
            "1                             False                      True   \n",
            "2                             False                      True   \n",
            "3                             False                      True   \n",
            "4                             False                      True   \n",
            "\n",
            "  Type of Feed_PET  Type of Feed_Watermelon Peel  Type of Feed_Wood  \\\n",
            "0            False                         False              False   \n",
            "1            False                         False              False   \n",
            "2            False                         False              False   \n",
            "3            False                         False              False   \n",
            "4            False                         False              False   \n",
            "\n",
            "   Type of Feed_wheat straw  \n",
            "0                     False  \n",
            "1                     False  \n",
            "2                     False  \n",
            "3                     False  \n",
            "4                     False  \n",
            "\n",
            "[5 rows x 49 columns]\n"
          ]
        }
      ]
    },
    {
      "cell_type": "markdown",
      "source": [
        "23 columns were added to the spreadsheet"
      ],
      "metadata": {
        "id": "h6lYLOLAbosi"
      }
    },
    {
      "cell_type": "code",
      "source": [
        "#Looking for outliers\n",
        "\n",
        "import numpy as np\n",
        "import pandas as pd\n",
        "\n",
        "# Define columns of interest\n",
        "columns_of_interest = ['CO2 mole fraction', 'CO mole fraction', 'H2 mole fraction', 'CH4 mole fraction', 'Hydrogen selectivity']\n",
        "\n",
        "# Calculate the interquartile range (IQR) for each column\n",
        "Q1 = df[columns_of_interest].quantile(0.25)\n",
        "Q3 = df[columns_of_interest].quantile(0.75)\n",
        "IQR = Q3 - Q1\n",
        "\n",
        "# Define the outlier threshold\n",
        "outlier_threshold = 2 * IQR\n",
        "\n",
        "# Identify outliers\n",
        "outliers = (df[columns_of_interest] < (Q1 - outlier_threshold)) | (df[columns_of_interest] > (Q3 + outlier_threshold))\n",
        "\n",
        "# Check if outliers exist\n",
        "if outliers.any().any():\n",
        "    print(\"Outliers detected in the following columns:\")\n",
        "    print(outliers.sum())\n",
        "else:\n",
        "    print(\"No outliers detected.\")"
      ],
      "metadata": {
        "colab": {
          "base_uri": "https://localhost:8080/"
        },
        "id": "qToqBLt6cYES",
        "outputId": "61b11e89-ab04-4100-d932-45cf261d7c25"
      },
      "execution_count": null,
      "outputs": [
        {
          "output_type": "stream",
          "name": "stdout",
          "text": [
            "Outliers detected in the following columns:\n",
            "CO2 mole fraction        0\n",
            "CO mole fraction        11\n",
            "H2 mole fraction         0\n",
            "CH4 mole fraction        0\n",
            "Hydrogen selectivity     6\n",
            "dtype: int64\n"
          ]
        }
      ]
    },
    {
      "cell_type": "markdown",
      "source": [
        "It is worth considering removing the rows with outliers beyond a certain range. I will probably delete the rows with those outliers to exclude them from the final processing of data\n"
      ],
      "metadata": {
        "id": "7Y5itUupcn6g"
      }
    },
    {
      "cell_type": "code",
      "source": [
        "# Define the columns to check for outliers\n",
        "columns_to_check = ['CO2 mole fraction', 'H2 mole fraction', 'Hydrogen selectivity', 'CO mole fraction', 'CH4 mole fraction']\n",
        "\n",
        "# Function to detect outliers using IQR\n",
        "def remove_outliers_iqr(df, columns):\n",
        "    q1 = df[columns].quantile(0.25)\n",
        "    q3 = df[columns].quantile(0.75)\n",
        "    iqr = q3 - q1\n",
        "    lower_bound = q1 - 2 * iqr\n",
        "    upper_bound = q3 + 2 * iqr\n",
        "    outliers = (df[columns] < lower_bound) | (df[columns] > upper_bound)\n",
        "    return df[~outliers]\n",
        "\n",
        "# Remove outliers and store the result in a new DataFrame\n",
        "df_cleaned = remove_outliers_iqr(df, columns_to_check)\n",
        "\n",
        "# Save the cleaned DataFrame to a new Excel file\n",
        "df_cleaned.to_excel('cleaned_data.xlsx', index=False)"
      ],
      "metadata": {
        "id": "guctF1zhayZv"
      },
      "execution_count": null,
      "outputs": []
    },
    {
      "cell_type": "markdown",
      "source": [
        "We will now move on to the exploratory data analysis"
      ],
      "metadata": {
        "id": "vg2O97BUdPDQ"
      }
    },
    {
      "cell_type": "markdown",
      "source": [
        "Plotting a histogram for temp"
      ],
      "metadata": {
        "id": "3i96ltjUeGzR"
      }
    },
    {
      "cell_type": "code",
      "source": [
        "import matplotlib.pyplot as plt\n",
        "\n",
        "# Assuming your DataFrame is named 'df'\n",
        "plt.hist(df['Temp'], bins=20, color='blue')\n",
        "plt.xlabel('Temperature')\n",
        "plt.ylabel('Frequency')\n",
        "plt.title('Histogram of Temperature')\n",
        "plt.show()"
      ],
      "metadata": {
        "colab": {
          "base_uri": "https://localhost:8080/",
          "height": 472
        },
        "id": "EUpz-DKOdS5R",
        "outputId": "13962473-b526-42aa-90a1-737d73dec05a"
      },
      "execution_count": null,
      "outputs": [
        {
          "output_type": "display_data",
          "data": {
            "text/plain": [
              "<Figure size 640x480 with 1 Axes>"
            ],
            "image/png": "[encoded data removed]"
          },
          "metadata": {}
        }
      ]
    },
    {
      "cell_type": "markdown",
      "source": [
        "Based on this ditribution most of the biofuels require a high temperature for the reaction to occur"
      ],
      "metadata": {
        "id": "YGi5b1dFeMcF"
      }
    },
    {
      "cell_type": "markdown",
      "source": [
        "Correlation between CO2 mole fraction and Temp"
      ],
      "metadata": {
        "id": "NKgAhLXyejxt"
      }
    },
    {
      "cell_type": "code",
      "source": [
        "import seaborn as sns\n",
        "import matplotlib.pyplot as plt\n",
        "\n",
        "# Assuming your DataFrame is named 'df'\n",
        "sns.scatterplot(x='Temp', y='CO2 mole fraction', data=df)\n",
        "plt.title('Scatter Plot of Temperature vs. CO2 Mole Fraction')\n",
        "plt.xlabel('Temperature')\n",
        "plt.ylabel('CO2 Mole Fraction')\n",
        "plt.show()\n",
        "\n",
        "# Calculate the correlation coefficient\n",
        "correlation = df['Temp'].corr(df['CO2 mole fraction'])\n",
        "print(f\"Correlation coefficient: {correlation}\")"
      ],
      "metadata": {
        "colab": {
          "base_uri": "https://localhost:8080/",
          "height": 490
        },
        "id": "vpeODso9epen",
        "outputId": "d7d4bb91-0d0b-4153-e888-f6a8492c69a8"
      },
      "execution_count": null,
      "outputs": [
        {
          "output_type": "display_data",
          "data": {
            "text/plain": [
              "<Figure size 640x480 with 1 Axes>"
            ],
            "image/png": "[encoded data removed]"
          },
          "metadata": {}
        },
        {
          "output_type": "stream",
          "name": "stdout",
          "text": [
            "Correlation coefficient: -0.3139426047465725\n"
          ]
        }
      ]
    },
    {
      "cell_type": "markdown",
      "source": [
        "There is not a strong correlation between CO2 and Temp"
      ],
      "metadata": {
        "id": "kTWetvjSesuV"
      }
    },
    {
      "cell_type": "markdown",
      "source": [
        "Visualize the relationship between carbon content in the feed and hydrogen selectivity"
      ],
      "metadata": {
        "id": "RQzBiwyXexJG"
      }
    },
    {
      "cell_type": "code",
      "source": [
        "import seaborn as sns\n",
        "import matplotlib.pyplot as plt\n",
        "\n",
        "# Assuming your DataFrame is named 'df'\n",
        "sns.scatterplot(x='C', y='Hydrogen selectivity', data=df)\n",
        "plt.title('Scatter Plot of C vs. Hydrogen Selectivity')\n",
        "plt.xlabel('C')\n",
        "plt.ylabel('Hydrogen Selectivity')\n",
        "plt.show()"
      ],
      "metadata": {
        "colab": {
          "base_uri": "https://localhost:8080/",
          "height": 472
        },
        "id": "ZdzKVtQHe2l1",
        "outputId": "f3d7478d-e2f8-4378-c5f4-b43a7c112fe7"
      },
      "execution_count": null,
      "outputs": [
        {
          "output_type": "display_data",
          "data": {
            "text/plain": [
              "<Figure size 640x480 with 1 Axes>"
            ],
            "image/png": "[encoded data removed]"
          },
          "metadata": {}
        }
      ]
    },
    {
      "cell_type": "markdown",
      "source": [
        "Hydrogen selectivity sometimes spikes around a carbon content of 40% and 55%, but other than that there seems to be no correlation."
      ],
      "metadata": {
        "id": "pi-6I_sjfDEQ"
      }
    },
    {
      "cell_type": "markdown",
      "source": [
        "CO mole fraction vs H2 mole fraction"
      ],
      "metadata": {
        "id": "DkGwnXiBfZQH"
      }
    },
    {
      "cell_type": "code",
      "source": [
        "import matplotlib.pyplot as plt\n",
        "\n",
        "# Assuming your DataFrame is named 'df'\n",
        "plt.scatter(df['H2 mole fraction'], df['CO mole fraction'])\n",
        "plt.xlabel('H2 mole fraction')\n",
        "plt.ylabel('CO mole fraction')\n",
        "plt.title('Scatter Plot of H2 mole fraction vs. CO mole fraction')\n",
        "plt.show()"
      ],
      "metadata": {
        "colab": {
          "base_uri": "https://localhost:8080/",
          "height": 472
        },
        "id": "9u6dp4aOfcMQ",
        "outputId": "e4f97ee1-ce94-4bd3-a124-7071ab781487"
      },
      "execution_count": null,
      "outputs": [
        {
          "output_type": "display_data",
          "data": {
            "text/plain": [
              "<Figure size 640x480 with 1 Axes>"
            ],
            "image/png": "[encoded data removed]"
          },
          "metadata": {}
        }
      ]
    },
    {
      "cell_type": "markdown",
      "source": [
        "Only very high CO levels correspond to low H2 levels, otherwise the correlation isn't strong"
      ],
      "metadata": {
        "id": "gS0vgoY7fgbO"
      }
    },
    {
      "cell_type": "markdown",
      "source": [
        "Splitting the dataset"
      ],
      "metadata": {
        "id": "qs4pc1lqfod8"
      }
    },
    {
      "cell_type": "code",
      "source": [
        "import pandas as pd\n",
        "\n",
        "# Assuming your DataFrame is named 'df'\n",
        "X = df.drop(['CO2 mole fraction', 'H2 mole fraction', 'Hydrogen selectivity', 'CO mole fraction', 'CH4 mole fraction'], axis=1)\n",
        "y = df[['CO2 mole fraction', 'H2 mole fraction', 'Hydrogen selectivity', 'CO mole fraction', 'CH4 mole fraction']]\n",
        "\n",
        "print(X.head())\n",
        "print(y.head())"
      ],
      "metadata": {
        "colab": {
          "base_uri": "https://localhost:8080/"
        },
        "id": "suJmVF5_gFsA",
        "outputId": "ea859c6b-981e-45f9-8d23-85dab9ec7563"
      },
      "execution_count": null,
      "outputs": [
        {
          "output_type": "stream",
          "name": "stdout",
          "text": [
            "          feed Type of Feed      C     H     N    S      O  ASH  \\\n",
            "0  Fruit Waste  Orange Peel  41.71  6.04  1.91  0.0  50.34  0.0   \n",
            "1  Fruit Waste  Orange Peel  41.71  6.04  1.91  0.0  50.34  0.0   \n",
            "2  Fruit Waste  Orange Peel  41.71  6.04  1.91  0.0  50.34  0.0   \n",
            "3  Fruit Waste  Orange Peel  41.71  6.04  1.91  0.0  50.34  0.0   \n",
            "4  Fruit Waste  Orange Peel  41.71  6.04  1.91  0.0  50.34  0.0   \n",
            "\n",
            "   C-H Aromatics   C-H  Alkanes  ...  C=C   C=O   O-H   Temp  Time    BC  \\\n",
            "0               1             1  ...     1     1     1   350    30   5.0   \n",
            "1               1             1  ...     1     1     1   350    60   5.0   \n",
            "2               1             1  ...     1     1     1   350    30  15.0   \n",
            "3               1             1  ...     1     1     1   350    60  15.0   \n",
            "4               1             1  ...     1     1     1   350    45  10.0   \n",
            "\n",
            "   Catalyst Type Catalyst Concentration    C-to-H    O-to-H  \n",
            "0              0                    0.0  6.905629  8.334437  \n",
            "1              0                    0.0  6.905629  8.334437  \n",
            "2              0                    0.0  6.905629  8.334437  \n",
            "3              0                    0.0  6.905629  8.334437  \n",
            "4              0                    0.0  6.905629  8.334437  \n",
            "\n",
            "[5 rows x 21 columns]\n",
            "   CO2 mole fraction  H2 mole fraction  Hydrogen selectivity  \\\n",
            "0              92.37              1.54              1.564087   \n",
            "1              93.00              2.49              2.553584   \n",
            "2              92.50              2.00              2.040816   \n",
            "3              95.27              1.09              1.102012   \n",
            "4              95.35              0.97              0.979501   \n",
            "\n",
            "   CO mole fraction  CH4 mole fraction  \n",
            "0              5.65               0.42  \n",
            "1              4.18               0.33  \n",
            "2              4.50               1.00  \n",
            "3              2.62               1.00  \n",
            "4              3.23               0.45  \n"
          ]
        }
      ]
    }
  ]
}